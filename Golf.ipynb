{
 "cells": [
  {
   "cell_type": "code",
   "execution_count": 9,
   "metadata": {
    "collapsed": true
   },
   "outputs": [],
   "source": [
    "# To setup, install these packages:\n",
    "#install.packages(\"C50\" )\n",
    "#install.packages(\"entropy\")"
   ]
  },
  {
   "cell_type": "markdown",
   "metadata": {},
   "source": [
    "# Entscheidungsbäume - Decision Trees\n",
    "Entscheidungsbäume sind ein grundlegendes Element des [überwachten Lernens](https://en.wikipedia.org/wiki/Supervised_learning) und gehören zur Klasse des maschinellen Lernens. Beim überwachten maschinellen Lernen wird automatisch aus einem Trainingsset ein Regelwerk erstellt, welches zu einem späteren Zeitpunkt zur Entscheidungsunterstützung für unbekannte Datenwerte dient.\n",
    "\n",
    "Ein Entscheidungsbaum besteht immer aus einem Wurzelknoten und beliebig vielen inneren Knoten sowie mindestens zwei Blättern. Dabei repräsentiert jeder Knoten eine logische Regel und jedes Blatt eine Antwort auf das Entscheidungsproblem.\n",
    "\n",
    "## Beispiel\n",
    "Ein Profi-Golfer wird beobachtet, wann er zum Golfen geht. Amateure wollen aus seinem Verhalten lernen wann es sich lohnt, Golf zu spielen:"
   ]
  },
  {
   "cell_type": "code",
   "execution_count": 10,
   "metadata": {
    "collapsed": false,
    "scrolled": true
   },
   "outputs": [
    {
     "data": {
      "text/html": [
       "<table>\n",
       "<thead><tr><th></th><th scope=col>Vorhersage</th><th scope=col>Temperatur</th><th scope=col>Luftfeuchte</th><th scope=col>windig</th><th scope=col>Golfen</th></tr></thead>\n",
       "<tbody>\n",
       "\t<tr><th scope=row>1</th><td>sonnig       </td><td>85           </td><td>85           </td><td>nein         </td><td>nicht spielen</td></tr>\n",
       "\t<tr><th scope=row>2</th><td>sonnig       </td><td>80           </td><td>90           </td><td>ja           </td><td>nicht spielen</td></tr>\n",
       "\t<tr><th scope=row>3</th><td>bedeckt</td><td>83     </td><td>78     </td><td>nein   </td><td>spielen</td></tr>\n",
       "\t<tr><th scope=row>4</th><td>regen  </td><td>70     </td><td>96     </td><td>nein   </td><td>spielen</td></tr>\n",
       "\t<tr><th scope=row>5</th><td>regen  </td><td>68     </td><td>80     </td><td>nein   </td><td>spielen</td></tr>\n",
       "\t<tr><th scope=row>6</th><td>regen        </td><td>65           </td><td>70           </td><td>ja           </td><td>nicht spielen</td></tr>\n",
       "</tbody>\n",
       "</table>\n"
      ],
      "text/latex": [
       "\\begin{tabular}{r|lllll}\n",
       "  & Vorhersage & Temperatur & Luftfeuchte & windig & Golfen\\\\\n",
       "\\hline\n",
       "\t1 & sonnig        & 85            & 85            & nein          & nicht spielen\\\\\n",
       "\t2 & sonnig        & 80            & 90            & ja            & nicht spielen\\\\\n",
       "\t3 & bedeckt & 83      & 78      & nein    & spielen\\\\\n",
       "\t4 & regen   & 70      & 96      & nein    & spielen\\\\\n",
       "\t5 & regen   & 68      & 80      & nein    & spielen\\\\\n",
       "\t6 & regen         & 65            & 70            & ja            & nicht spielen\\\\\n",
       "\\end{tabular}\n"
      ],
      "text/plain": [
       "  Vorhersage Temperatur Luftfeuchte windig        Golfen\n",
       "1     sonnig         85          85   nein nicht spielen\n",
       "2     sonnig         80          90     ja nicht spielen\n",
       "3    bedeckt         83          78   nein       spielen\n",
       "4      regen         70          96   nein       spielen\n",
       "5      regen         68          80   nein       spielen\n",
       "6      regen         65          70     ja nicht spielen"
      ]
     },
     "metadata": {},
     "output_type": "display_data"
    }
   ],
   "source": [
    "golf.data <- read.csv(\"DecisionTree/golf/golf.csv\")\n",
    "head(golf.data)"
   ]
  },
  {
   "cell_type": "markdown",
   "metadata": {},
   "source": [
    "Ein Entscheidungsbaumalgorithmus erstellt daraus diesen Entscheidungsbaum:"
   ]
  },
  {
   "cell_type": "code",
   "execution_count": 11,
   "metadata": {
    "collapsed": false
   },
   "outputs": [
    {
     "data": {
      "image/png": "[encoded data removed]",
      "text/plain": [
       "plot without title"
      ]
     },
     "metadata": {},
     "output_type": "display_data"
    }
   ],
   "source": [
    "library(\"C50\")\n",
    "golf.tree<-C5.0(Golfen~.,data=golf.data)\n",
    "plot(golf.tree, type = \"simple\")"
   ]
  },
  {
   "cell_type": "markdown",
   "metadata": {},
   "source": [
    "Der Entscheidungsbaum ist so zu lesen: Wenn die Vorhersage _bedeckt_ ist, dann soll man golfen gehen. Ist die Vorhersage hingegen _regen_ oder _sonnig_, dann ist es weiters abhängig von der Luftfeuchte. Beträgt die Luftfeuchte > 75%, dann sollte man nicht spielen gehen."
   ]
  },
  {
   "cell_type": "markdown",
   "metadata": {},
   "source": [
    "Der Entscheidungsbaum hat aus den Größen _Golfen_ von den Größen _Vorhersage_, _Temperatur_, _Luftfeuchte_, und _windig_ in Relation zur Entscheidung golfen zu gehen Abhängigkeiten erkannt und daraus Regeln erstellt. In diesem Zusammenhang stellen sich die Fragen wie es zur Erstellung dieses Baums kommt, speziell wann welche Entscheidung getroffen wird und warum.\n",
    "\n",
    "Entscheidungsbäume können automatisiert aus vorgegebenen Zielgrößen Zusammenhänge in Datenbeständen erkennen und daraus Regeln zur Entscheidungsunterstützung ableiten. Diese automatisiert erkannten Regeln müssen begründbar sein, daher ist es erforderlich, sich mit den Wirkweisen der Entscheidungsbaumerstellung auseinanderzusetzen. Die wichtigste Grundlage dazu stellt die [Entropie](https://de.wikipedia.org/wiki/Entropie_(Informationstheorie)) dar."
   ]
  },
  {
   "cell_type": "markdown",
   "metadata": {},
   "source": [
    "# Entropie\n",
    "Die Entropie ist in der Informationstheorie ein Maß für die benötigte Breite zur Übertragung oder Speicherung von Informationen.\n",
    "\n",
    "## Exkurs\n",
    "Eine Ampel (die aus den Lichtern Rot und Grün besteht) blinkt 1 Mal pro Tag. Wir wissen, dass das rote Licht ausgefallen ist. Die benötigte Bandbreite zur Übertragung dieser Information bzw. der Informationsgehalt ist 0 - Es ist sicher, dass die Ampel immer grün blinken wird.\n",
    "\n",
    "Wenn beide Lichter der Ampel funktionieren und die Regel lautet, dass ein Licht immer abwechselnd leuchten muss, dann herrscht perfekte Unkenntnis über das nächste einzutretende Ereignis und der Informationsgewinn, also der Wert der Information sobald das nächste Ereignis eintritt, ist am höchsten. Gleiches gilt wenn es drei Farben an Lichtern gäbe, z.B. Gelb, die immer abwechselnd leuchten dürfen: Indem die Homogenität der Eintrittswahrscheinlichkeiten der Ereignisse gleichverteilt ist, haben solche Ereignisse den höchsten Informationsgehalt.\n",
    "\n",
    "Geht man wieder auf das Modell der zwei Farben zurück, und führt aber die weitere Regel ein, dass das rote Licht nicht zwei Mal hintereinander leuchten darf, dann ändert sich der Gehalt dieses Informationssystems, denn wenn das rote Licht leuchtete, wird das nächste Licht jedenfalls Grün sein.\n",
    "\n",
    "Verallgemeinernd kann der Informationsgehalt eines Ereignisses berechnet werden aus $-p \\log_2(p)$ wobei p die Eintrittswahrscheinlichkeit des Ereignisses ist.\n",
    "\n",
    "Aus dem Zusammenhang der Eintrittswahrscheinlichkeit von Ereignissen (in unserem Beispiel die Wahrscheinlichkeiten des Leuchtens der Lichter Rot, Grün oder Gelb) und der Anzahl der verschiedenen Ausprägungen der Ereignisse (die Ampel kann Rot, Grün oder Gelb blinken, somit 3 unterschiedliche Ausprägungen), kann der Informationsgehalt des Gesamtsystems berechnet werden aus:\n",
    "\n",
    "$$I=-\\sum p_i  \\log_2 (p_i)$$\n",
    "\n",
    "Für das Beispiel der Ampel mit den jeweils unterschiedlich farbigen Lichtern und den dazugehörigen Regeln ergeben sich diese Werte:"
   ]
  },
  {
   "cell_type": "markdown",
   "metadata": {},
   "source": [
    "Rote Glühbirne ausgebrannt: $p_{red} = 0$, $p_{green}=1$, $I = -(0 + 0)  = 0$  \n",
    "Rot und Grün mit gleicher Wahrscheinlichkeit: $p_{red} = \\frac{1}{2}$, $p_{green} = \\frac{1}{2}$, $I = -(2 \\frac{1}{2}  \\log_2\\frac{1}{2}) = log_2 2$  \n",
    "Drei Farben mit gleicher Eintrittswahrscheinlichkeit: $p_i=\\frac{1}{3}$, $I = -(3 \\frac{1}{3}  \\log_2 \\frac{1}{3}) = log_2(3)$  \n",
    "Grün und Rot, Grün zwei mal so wahrscheinlich: $p_{red}=\\frac{1}{3}$, $p_{green}=\\frac{2}{3}$, $I = -(\\frac{1}{3} \\log_2 \\frac{1}{3} + \\frac{2}{3} \\log_2 \\frac{2}{3}) = \\log_2 3 - \\frac{2}{3} \\log_2 2$"
   ]
  },
  {
   "cell_type": "markdown",
   "metadata": {},
   "source": [
    "Ein Ziel beim Erstellen eines Entscheidungsbaumes ist es die Tiefe und somit die Anzahl seiner Regeln, gering zu halten. Dies wird ermöglicht, indem bei jedem Knoten jene Entscheidungsvariablen gewählt werden, die das Entscheidungsproblem möglichst rasch so partitionieren, dass die verbleibende Menge an zu treffenden Entscheidungen reduziert wird.\n",
    "\n",
    "Dazu wird für die einzelnen Entscheidungsvariablen deren Entropie am Entscheidungssystem bestimmt und jene Variable gewählt, die den höchsten _Informationsgewinn_ liefert. Der Informationsgewinn berechnet sich aus der _Entropie vor der Teilung_ - _Entropie nach der Teilung_. Zur Bestimmung ob der Split des Entscheidungsbaums in Bezug auf die Variable _windig_ oder _Vorhersage_ erfolgen soll, muss daher jeweils der Informationsgewinn berechnet werden."
   ]
  },
  {
   "cell_type": "markdown",
   "metadata": {},
   "source": [
    "Zuerst wird ermittelt, wie viele unterschiedliche Ausprägungen der Zielvariable es gibt sowie deren Frequenz (Häufigkeit des Auftretens):"
   ]
  },
  {
   "cell_type": "code",
   "execution_count": 12,
   "metadata": {
    "collapsed": false
   },
   "outputs": [
    {
     "data": {
      "text/plain": [
       "Golfen\n",
       "nicht spielen       spielen \n",
       "            5             9 "
      ]
     },
     "metadata": {},
     "output_type": "display_data"
    }
   ],
   "source": [
    "xtabs(~Golfen,data=golf.data)"
   ]
  },
  {
   "cell_type": "markdown",
   "metadata": {},
   "source": [
    "Anschließend werden die Wahrscheinlichkeiten berechnet, mit denen eine jeweilige Ausprägung der Zielvariable auftreten kann. Die Wahrscheinlichkeit beträgt $\\frac{X_i}{|T|}$, wobei $X$ die Anzahl der Ausprägungen einer Zielvariable ist (hier z.B. _nicht spielen_) und $|T|$ die Gesamtanzahl der Ereignisse:"
   ]
  },
  {
   "cell_type": "code",
   "execution_count": 13,
   "metadata": {
    "collapsed": false
   },
   "outputs": [
    {
     "data": {
      "text/html": [
       "<strong>nicht spielen:</strong> 5"
      ],
      "text/latex": [
       "\\textbf{nicht spielen:} 5"
      ],
      "text/markdown": [
       "**nicht spielen:** 5"
      ],
      "text/plain": [
       "nicht spielen \n",
       "            5 "
      ]
     },
     "metadata": {},
     "output_type": "display_data"
    },
    {
     "data": {
      "text/html": [
       "<strong>nicht spielen:</strong> 0.357142857142857"
      ],
      "text/latex": [
       "\\textbf{nicht spielen:} 0.357142857142857"
      ],
      "text/markdown": [
       "**nicht spielen:** 0.357142857142857"
      ],
      "text/plain": [
       "nicht spielen \n",
       "    0.3571429 "
      ]
     },
     "metadata": {},
     "output_type": "display_data"
    },
    {
     "data": {
      "text/plain": [
       "Golfen\n",
       "nicht spielen       spielen \n",
       "    0.3571429     0.6428571 "
      ]
     },
     "metadata": {},
     "output_type": "display_data"
    }
   ],
   "source": [
    "xtabs(~Golfen,data=golf.data)[1]\n",
    "xtabs(~Golfen,data=golf.data)[1] / nrow(golf.data)\n",
    "\n",
    "prop.golf<-prop.table(xtabs(~Golfen,data=golf.data))\n",
    "\n",
    "prop.golf"
   ]
  },
  {
   "cell_type": "markdown",
   "metadata": {},
   "source": [
    "Die Entropie vor einem Split $I(5/9)$ beträgt somit nach Einsetzen in die Formel für die Entropie $I=-\\sum p_i  \\log_2 (p_i)$:"
   ]
  },
  {
   "cell_type": "code",
   "execution_count": 14,
   "metadata": {
    "collapsed": false
   },
   "outputs": [
    {
     "data": {
      "text/html": [
       "0.940285958670631"
      ],
      "text/latex": [
       "0.940285958670631"
      ],
      "text/markdown": [
       "0.940285958670631"
      ],
      "text/plain": [
       "[1] 0.940286"
      ]
     },
     "metadata": {},
     "output_type": "display_data"
    }
   ],
   "source": [
    "p.nicht_spielen<-prop.golf['nicht spielen']\n",
    "p.spielen<-prop.golf['spielen']\n",
    "\n",
    "as.numeric(- (p.nicht_spielen * log2(p.nicht_spielen) + p.spielen * log2(p.spielen)))"
   ]
  },
  {
   "cell_type": "markdown",
   "metadata": {},
   "source": [
    "Alternativ gelangen diese beiden Ausdrücke zum gleichen Ergebnis:"
   ]
  },
  {
   "cell_type": "code",
   "execution_count": 15,
   "metadata": {
    "collapsed": false
   },
   "outputs": [
    {
     "data": {
      "text/html": [
       "0.940285958670631"
      ],
      "text/latex": [
       "0.940285958670631"
      ],
      "text/markdown": [
       "0.940285958670631"
      ],
      "text/plain": [
       "[1] 0.940286"
      ]
     },
     "metadata": {},
     "output_type": "display_data"
    },
    {
     "data": {
      "text/html": [
       "0.940285958670631"
      ],
      "text/latex": [
       "0.940285958670631"
      ],
      "text/markdown": [
       "0.940285958670631"
      ],
      "text/plain": [
       "[1] 0.940286"
      ]
     },
     "metadata": {},
     "output_type": "display_data"
    }
   ],
   "source": [
    "-sum(prop.golf*log2(prop.golf))\n",
    "\n",
    "library(\"entropy\")\n",
    "I<-entropy.empirical(prop.golf, unit=\"log2\")\n",
    "I"
   ]
  },
  {
   "cell_type": "markdown",
   "metadata": {},
   "source": [
    "Die Entropie nach der Teilung anhand der _Vorhersage_ berechnet sich wie folgt:\n",
    "1. Die Anzahl der unterschiedlichen Ausprägungen von _Vorhersage_ wird relativ zur Zielvariable _Golfen_ ermittelt:\n",
    "2. Berechnen der Eintrittswahrscheinlichkeiten der unterschiedlichen Ausprägungen von _Vorhersage_ relativ zur Zielvariablen\n",
    "3. Berechnung der jeweiligen Entropien\n",
    "4. Die Gesamtentropie berechnet sich wieder analog aus der - Summe (Wahrscheinlichkeit des Eintritts des Ereignisses * jeweiligen Einzelentropie), $I=-\\sum p_i  \\log_2 (p_i)$"
   ]
  },
  {
   "cell_type": "code",
   "execution_count": 16,
   "metadata": {
    "collapsed": false
   },
   "outputs": [
    {
     "data": {
      "text/plain": [
       "               Vorhersage\n",
       "Golfen          bedeckt regen sonnig\n",
       "  nicht spielen       0     2      3\n",
       "  spielen             4     3      2"
      ]
     },
     "metadata": {},
     "output_type": "display_data"
    }
   ],
   "source": [
    "xtabs(~Golfen+Vorhersage,data=golf.data)"
   ]
  },
  {
   "cell_type": "markdown",
   "metadata": {},
   "source": [
    "Berechnung der jeweiligen Eintrittswahrscheinlichkeiten:"
   ]
  },
  {
   "cell_type": "code",
   "execution_count": 17,
   "metadata": {
    "collapsed": false
   },
   "outputs": [
    {
     "data": {
      "text/plain": [
       "          Golfen\n",
       "Vorhersage nicht spielen   spielen\n",
       "   bedeckt     0.0000000 0.2857143\n",
       "   regen       0.1428571 0.2142857\n",
       "   sonnig      0.2142857 0.1428571"
      ]
     },
     "metadata": {},
     "output_type": "display_data"
    }
   ],
   "source": [
    "prop.golf.Vorhersage <- t(prop.table(xtabs(~Golfen+Vorhersage,data=golf.data)))\n",
    "prop.golf.Vorhersage"
   ]
  },
  {
   "cell_type": "markdown",
   "metadata": {},
   "source": [
    "Berechnung der jeweiligen Einzelentropien (bedeckt, regen, sonnig):"
   ]
  },
  {
   "cell_type": "code",
   "execution_count": 18,
   "metadata": {
    "collapsed": false
   },
   "outputs": [
    {
     "data": {
      "text/html": [
       "0"
      ],
      "text/latex": [
       "0"
      ],
      "text/markdown": [
       "0"
      ],
      "text/plain": [
       "[1] 0"
      ]
     },
     "metadata": {},
     "output_type": "display_data"
    },
    {
     "data": {
      "text/html": [
       "0.970950594454668"
      ],
      "text/latex": [
       "0.970950594454668"
      ],
      "text/markdown": [
       "0.970950594454668"
      ],
      "text/plain": [
       "[1] 0.9709506"
      ]
     },
     "metadata": {},
     "output_type": "display_data"
    },
    {
     "data": {
      "text/html": [
       "0.970950594454668"
      ],
      "text/latex": [
       "0.970950594454668"
      ],
      "text/markdown": [
       "0.970950594454668"
      ],
      "text/plain": [
       "[1] 0.9709506"
      ]
     },
     "metadata": {},
     "output_type": "display_data"
    },
    {
     "data": {
      "text/html": [
       "<dl class=dl-horizontal>\n",
       "\t<dt>bedeckt</dt>\n",
       "\t\t<dd>0</dd>\n",
       "\t<dt>regen</dt>\n",
       "\t\t<dd>0.970950594454668</dd>\n",
       "\t<dt>sonnig</dt>\n",
       "\t\t<dd>0.970950594454668</dd>\n",
       "</dl>\n"
      ],
      "text/latex": [
       "\\begin{description*}\n",
       "\\item[bedeckt] 0\n",
       "\\item[regen] 0.970950594454668\n",
       "\\item[sonnig] 0.970950594454668\n",
       "\\end{description*}\n"
      ],
      "text/markdown": [
       "bedeckt\n",
       ":   0regen\n",
       ":   0.970950594454668sonnig\n",
       ":   0.970950594454668\n",
       "\n"
      ],
      "text/plain": [
       "  bedeckt     regen    sonnig \n",
       "0.0000000 0.9709506 0.9709506 "
      ]
     },
     "metadata": {},
     "output_type": "display_data"
    }
   ],
   "source": [
    "entropy.empirical(prop.golf.Vorhersage[1,], unit=\"log2\")\n",
    "entropy.empirical(prop.golf.Vorhersage[2,], unit=\"log2\")\n",
    "entropy.empirical(prop.golf.Vorhersage[3,], unit=\"log2\")\n",
    "\n",
    "ent.golf.Vorhersage<-apply(prop.golf.Vorhersage, 1, function(x) entropy.empirical(x, unit=\"log2\"))\n",
    "ent.golf.Vorhersage"
   ]
  },
  {
   "cell_type": "markdown",
   "metadata": {},
   "source": [
    "## Informationsgewinn\n",
    "Der Informationsgewinn bzw. die Reduktion der Unsicherheit des Teilsystems _Vorhersage_ errechnet sich somit aus $p_{(bedeck|Golfen)}  I(p_{(bedeck|Golfen)}) + p_{(regen|Golfen)} I(p_{(regen|Golfen)}) + p_{(sonnig|Golfen)} I(p_{(sonnig|Golfen)})$:"
   ]
  },
  {
   "cell_type": "code",
   "execution_count": 19,
   "metadata": {
    "collapsed": false
   },
   "outputs": [
    {
     "data": {
      "text/html": [
       "0.693536138896192"
      ],
      "text/latex": [
       "0.693536138896192"
      ],
      "text/markdown": [
       "0.693536138896192"
      ],
      "text/plain": [
       "[1] 0.6935361"
      ]
     },
     "metadata": {},
     "output_type": "display_data"
    }
   ],
   "source": [
    "I.Vorhersage <- sum(prop.golf.Vorhersage*ent.golf.Vorhersage)\n",
    "I.Vorhersage"
   ]
  },
  {
   "cell_type": "markdown",
   "metadata": {},
   "source": [
    "und der Informationsgewinn beträgt _Entropie vor dem Split - Entropie nach dem Split_ = $I(Golf) - I(Golf|Vorhersage)$:"
   ]
  },
  {
   "cell_type": "code",
   "execution_count": 20,
   "metadata": {
    "collapsed": false
   },
   "outputs": [
    {
     "data": {
      "text/html": [
       "0.246749819774439"
      ],
      "text/latex": [
       "0.246749819774439"
      ],
      "text/markdown": [
       "0.246749819774439"
      ],
      "text/plain": [
       "[1] 0.2467498"
      ]
     },
     "metadata": {},
     "output_type": "display_data"
    }
   ],
   "source": [
    "I-I.Vorhersage"
   ]
  },
  {
   "cell_type": "markdown",
   "metadata": {},
   "source": [
    "Der Informationsgewinn für das mögliche Teilsystem _windig_ wird analog berechnet und beträgt:"
   ]
  },
  {
   "cell_type": "code",
   "execution_count": 21,
   "metadata": {
    "collapsed": false
   },
   "outputs": [
    {
     "data": {
      "text/html": [
       "0.0481270304082694"
      ],
      "text/latex": [
       "0.0481270304082694"
      ],
      "text/markdown": [
       "0.0481270304082694"
      ],
      "text/plain": [
       "[1] 0.04812703"
      ]
     },
     "metadata": {},
     "output_type": "display_data"
    }
   ],
   "source": [
    "prop.golf.windig<-t(prop.table(xtabs(~Golfen+windig,data=golf.data)))\n",
    "ent.golf.windig<-apply(prop.golf.windig,1, function(x) entropy.empirical(x, unit=\"log2\"))\n",
    "    \n",
    "I.windig <- sum(prop.golf.windig*ent.golf.windig)\n",
    "\n",
    "I-I.windig"
   ]
  },
  {
   "cell_type": "markdown",
   "metadata": {},
   "source": [
    "Ein Split des Entscheidungsbaumes bezüglich der _Vorhersage_ wäre also zu bevorzugen, da er den höheren Informationsgewinn liefert."
   ]
  },
  {
   "cell_type": "markdown",
   "metadata": {},
   "source": [
    "## Binning\n",
    "Die beschriebene Vorgehensweise ist für diskrete Werte wie **windig{ja|nein}** oder **Vorhersage{regen|bedeckt|sonnig}** möglich. Für kontinuierliche Werte wie Temperatur oder Luftfeuchte muss eine andere Vorgehensweise gewählt werden, die als _Binning_ bezeichnet wird. Binning ist die automatische Zuordnung kontinuierlicher Werte zu Klassen. Im Fall von Temperatur würden sich beispielsweise die Klassenwerte **Temperatur{niedrig|angenehm|heiß}** anbieten. Um diese Klassenbildung zu verdeutlichen kann für das gewählte Beispiel folgendes Diagramm erstellt werden:"
   ]
  },
  {
   "cell_type": "code",
   "execution_count": 22,
   "metadata": {
    "collapsed": false
   },
   "outputs": [
    {
     "data": {},
     "metadata": {},
     "output_type": "display_data"
    },
    {
     "data": {
      "image/png": "[encoded data removed]",
      "text/plain": [
       "plot without title"
      ]
     },
     "metadata": {},
     "output_type": "display_data"
    }
   ],
   "source": [
    "library(\"ggplot2\")\n",
    "ggplot(data = golf.data, aes(x = Temperatur, y = Luftfeuchte, color=Golfen)) + geom_point() + geom_rug()"
   ]
  },
  {
   "cell_type": "markdown",
   "metadata": {},
   "source": [
    "Ein ersichtlicher Trend ist, das wenn Temperatur und Luftfeuchte hoch sind, man eher _nicht_ spielen sollte. Hingegen ist es bei hoher Temperatur und niedriger Luftfeuchte anscheinend vorteilhaft zu spielen.\n",
    "\n",
    "Betrachtet man die Verteilung der Werte Temperatur so lässt sich eine Dreierklassifikation in niedrig, angenehm und heiß argumentieren. Auch hinsichtlich der Luftfeuchte kann man erkennen, dass z.B. für eine Luftfeuchte von > 75 bis auf eine sämtliche Entscheidungen nicht zu spielen lauten.\n",
    "\n",
    "Entscheidungsbaumalgorithmen nehmen eine automatische Klassifikation kontinuierlicher Werte hinsichtlich ihrer Verteilung und ihres Einflusses auf die Zielvariable vor."
   ]
  },
  {
   "cell_type": "markdown",
   "metadata": {},
   "source": [
    "## Wie geht es weiter?\n",
    "Der hier vorgestellte Entscheidungsbaumalgorithmus C5.0 wählt eine iterative Vorgehensweise. Nachdem der erste Split gewählt wurde, wird für alle weiteren verbleibenden Inputgrößen deren Informationsgewinn bestimmt und die Menge der verbleibenden Entscheidungen weiter reduziert, bis das Entscheidungsproblem gelöst ist."
   ]
  },
  {
   "cell_type": "markdown",
   "metadata": {},
   "source": [
    "Für das gewählte Entscheidungsproblem \"Golfen\" lauten die Regeln:"
   ]
  },
  {
   "cell_type": "code",
   "execution_count": 23,
   "metadata": {
    "collapsed": false
   },
   "outputs": [
    {
     "data": {
      "text/plain": [
       "\n",
       "Call:\n",
       "C5.0.formula(formula = Golfen ~ ., data = golf.data)\n",
       "\n",
       "\n",
       "C5.0 [Release 2.07 GPL Edition]  \tTue Oct 18 08:48:06 2016\n",
       "-------------------------------\n",
       "\n",
       "Class specified by attribute `outcome'\n",
       "\n",
       "Read 14 cases (5 attributes) from undefined.data\n",
       "\n",
       "Decision tree:\n",
       "\n",
       "Vorhersage = bedeckt: spielen (4)\n",
       "Vorhersage = regen:\n",
       ":...windig = ja: nicht spielen (2)\n",
       ":   windig = nein: spielen (3)\n",
       "Vorhersage = sonnig:\n",
       ":...Luftfeuchte <= 75: spielen (2)\n",
       "    Luftfeuchte > 75: nicht spielen (3)\n",
       "\n",
       "\n",
       "Evaluation on training data (14 cases):\n",
       "\n",
       "\t    Decision Tree   \n",
       "\t  ----------------  \n",
       "\t  Size      Errors  \n",
       "\n",
       "\t     5    0( 0.0%)   <<\n",
       "\n",
       "\n",
       "\t   (a)   (b)    <-classified as\n",
       "\t  ----  ----\n",
       "\t     5          (a): class nicht spielen\n",
       "\t           9    (b): class spielen\n",
       "\n",
       "\n",
       "\tAttribute usage:\n",
       "\n",
       "\t100.00%\tVorhersage\n",
       "\t 35.71%\tLuftfeuchte\n",
       "\t 35.71%\twindig\n",
       "\n",
       "\n",
       "Time: 0.0 secs\n"
      ]
     },
     "metadata": {},
     "output_type": "display_data"
    }
   ],
   "source": [
    "summary(golf.tree)"
   ]
  }
 ],
 "metadata": {
  "kernelspec": {
   "display_name": "R",
   "language": "R",
   "name": "ir"
  },
  "language_info": {
   "codemirror_mode": "r",
   "file_extension": ".r",
   "mimetype": "text/x-r-source",
   "name": "R",
   "pygments_lexer": "r",
   "version": "3.3.1"
  }
 },
 "nbformat": 4,
 "nbformat_minor": 1
}
